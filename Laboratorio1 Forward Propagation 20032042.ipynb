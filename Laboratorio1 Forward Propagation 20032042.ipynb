{
 "cells": [
  {
   "cell_type": "markdown",
   "id": "c0c66bdd-f689-44cb-92d3-5dfdd13d9507",
   "metadata": {},
   "source": [
    "### Laboratorio 1 Forward Propagation\n",
    "#### Estuardo Funes Solares Carné: 20032042"
   ]
  },
  {
   "cell_type": "markdown",
   "id": "09c01dbf-cb75-4a3f-aeaa-14d9cfe0d3e7",
   "metadata": {},
   "source": [
    "### Ejercicio 1"
   ]
  },
  {
   "cell_type": "code",
   "execution_count": 19,
   "id": "77af2a08-ee42-4758-909a-cddbdce9ccfd",
   "metadata": {},
   "outputs": [
    {
     "name": "stdout",
     "output_type": "stream",
     "text": [
      "[0.15 0.74 0.26 0.53 0.01 0.92]\n",
      "[0.9  0.03 0.96]\n"
     ]
    }
   ],
   "source": [
    "import numpy as np\n",
    "np.random.seed(12)\n",
    "weights = np.around(np.random.uniform(size=6), decimals=2)\n",
    "biases = np.around(np.random.uniform(size = 3), decimals=2)\n",
    "print(weights)\n",
    "print(biases)\n",
    "\n",
    "#w1 = weight[0]\n",
    "#w2 = weight[1]\n",
    "#...\n",
    "#w6 = weight[5]\n",
    "\n",
    "#b1 = biases[0]\n",
    "#b2 = biases[1]\n",
    "#b3 = biases[2]"
   ]
  },
  {
   "cell_type": "code",
   "execution_count": 20,
   "id": "684e22b5-41a9-4091-b3fd-1424cc5364d1",
   "metadata": {},
   "outputs": [
    {
     "name": "stdout",
     "output_type": "stream",
     "text": [
      "x1: 0.5 y x2: 0.85\n"
     ]
    }
   ],
   "source": [
    "x_1= 0.5\n",
    "x_2= 0.85\n",
    "print(\"x1: {} y x2: {}\".format(x1,x2))"
   ]
  },
  {
   "cell_type": "code",
   "execution_count": 21,
   "id": "c573dedc-0c35-4de9-9114-2e4e9a7fd80f",
   "metadata": {},
   "outputs": [
    {
     "name": "stdout",
     "output_type": "stream",
     "text": [
      "1.604\n"
     ]
    }
   ],
   "source": [
    "#z = x1*w1 + x2*w2 + ... + nx+wn + b\n",
    "\n",
    "#z1_1 = x1*w1 + x2*w2 + b\n",
    "z1_1 = x_1 * weights[0] + x_2 * weights[1] + biases[0]\n",
    "print(z1_1)"
   ]
  },
  {
   "cell_type": "code",
   "execution_count": 22,
   "id": "fd306a6d-babe-4406-bf72-1cb5657e085e",
   "metadata": {},
   "outputs": [
    {
     "name": "stdout",
     "output_type": "stream",
     "text": [
      "0.6105\n"
     ]
    }
   ],
   "source": [
    "#z1_2 = x1 * w3 + x2 * w4 + b\n",
    "z1_2 = x_1 * weights[2] + x_2 * weights[3] + biases[1]\n",
    "print(z1_2)"
   ]
  },
  {
   "cell_type": "code",
   "execution_count": 23,
   "id": "48099afe-ea90-413d-803c-6b16a7d081f7",
   "metadata": {},
   "outputs": [
    {
     "name": "stdout",
     "output_type": "stream",
     "text": [
      "0.8325766980765932\n",
      "0.648054850401614\n"
     ]
    }
   ],
   "source": [
    "#z2 = a1_1 * w5 + a1_2 * w6 + b\n",
    "#a1_1 = 1 / (1 + e^-z)\n",
    "a1_1 = 1 / (1 + np.exp(-z1_1))\n",
    "print(a1_1)\n",
    "\n",
    "a1_2 = 1 / (1 + np.exp(-z1_2))\n",
    "print(a1_2)\n"
   ]
  },
  {
   "cell_type": "code",
   "execution_count": 24,
   "id": "8bb419b5-62aa-4294-b806-5d33a862b27d",
   "metadata": {},
   "outputs": [
    {
     "name": "stdout",
     "output_type": "stream",
     "text": [
      "1.5645362293502507\n"
     ]
    }
   ],
   "source": [
    "#z2 = a1_1 * weights[4] + a1_2 * weights[5] + biases[2]\n",
    "z2 = a1_1 * weights[4] + a1_2 * weights[5] + biases[2]\n",
    "print(z2)"
   ]
  },
  {
   "cell_type": "code",
   "execution_count": 25,
   "id": "9f42273b-eb9f-47f3-9bc4-625d9a9bbe92",
   "metadata": {},
   "outputs": [
    {
     "name": "stdout",
     "output_type": "stream",
     "text": [
      "0.827003309039\n"
     ]
    }
   ],
   "source": [
    "a2 = 1 / (1 + np.exp(-z2))\n",
    "print (a2)"
   ]
  },
  {
   "cell_type": "markdown",
   "id": "aeb0d866-0049-4161-9793-aef899a123be",
   "metadata": {},
   "source": [
    "### Ejercicio 2"
   ]
  },
  {
   "cell_type": "code",
   "execution_count": 1,
   "id": "a65abb12-3927-4e1d-9a7e-eb2c9bd9dc85",
   "metadata": {},
   "outputs": [],
   "source": [
    "n = 5 # inputs\n",
    "num_hidden_layers = 3 # hidden layers\n",
    "m = [3, 2, 3] # nodes in each hidden layer\n",
    "num_nodes_output = 1 # nodes in the output layer"
   ]
  },
  {
   "cell_type": "code",
   "execution_count": 2,
   "id": "d88bd569-84a8-4a49-b60e-15173620a604",
   "metadata": {},
   "outputs": [],
   "source": [
    "import numpy as np \n",
    "num_nodes_previous = n \n",
    "#network = {} # empty network\n",
    "# loop through each layer and randomly initialize the weights and biases"
   ]
  },
  {
   "cell_type": "code",
   "execution_count": 3,
   "id": "e52a1919-8823-48ec-8e36-545b34167334",
   "metadata": {},
   "outputs": [],
   "source": [
    "def initialize_network(num_inputs, num_hidden_layers, num_nodes_hidden, num_nodes_output):\n",
    "    num_nodes_previous = num_inputs \n",
    "    network = {}\n",
    "    for layer in range(num_hidden_layers + 1):\n",
    "        \n",
    "        if layer == num_hidden_layers:\n",
    "            layer_name = 'output' # output layer \n",
    "            num_nodes = num_nodes_output\n",
    "        else:\n",
    "            layer_name = 'layer_{}'.format(layer + 1) # layer a number\n",
    "            num_nodes = num_nodes_hidden[layer] \n",
    "        \n",
    "        # initialize weights and bias \n",
    "        network[layer_name] = {}\n",
    "        for node in range(num_nodes):\n",
    "            node_name = 'node_{}'.format(node+1)\n",
    "            network[layer_name][node_name] = {\n",
    "                'weights': np.around(np.random.uniform(size=num_nodes_previous), decimals=2),\n",
    "                'bias': np.around(np.random.uniform(size=1), decimals=2),\n",
    "            }\n",
    "    \n",
    "        num_nodes_previous = num_nodes\n",
    "\n",
    "    return network # return the network"
   ]
  },
  {
   "cell_type": "code",
   "execution_count": 4,
   "id": "d2d1a83d-9ca3-4568-9e13-812e37a7946f",
   "metadata": {},
   "outputs": [],
   "source": [
    "#small_network = initialize_network(5, 3, [3,2,3], 1)\n",
    "small_network = initialize_network(n, num_hidden_layers, m, num_nodes_output)"
   ]
  },
  {
   "cell_type": "code",
   "execution_count": 5,
   "id": "92959a9d-f7d8-40de-bf0e-f9955586c2e7",
   "metadata": {},
   "outputs": [
    {
     "data": {
      "text/plain": [
       "{'layer_1': {'node_1': {'weights': array([0.76, 0.54, 0.15, 0.67, 0.23]),\n",
       "   'bias': array([0.67])},\n",
       "  'node_2': {'weights': array([0.89, 0.08, 0.91, 0.98, 0.37]),\n",
       "   'bias': array([0.11])},\n",
       "  'node_3': {'weights': array([0.27, 0.49, 0.49, 0.72, 0.31]),\n",
       "   'bias': array([0.64])}},\n",
       " 'layer_2': {'node_1': {'weights': array([0.73, 0.2 , 0.81]),\n",
       "   'bias': array([0.21])},\n",
       "  'node_2': {'weights': array([0.25, 0.57, 0.93]), 'bias': array([0.84])}},\n",
       " 'layer_3': {'node_1': {'weights': array([0.05, 0.04]), 'bias': array([0.71])},\n",
       "  'node_2': {'weights': array([0.91, 0.8 ]), 'bias': array([0.93])},\n",
       "  'node_3': {'weights': array([0.28, 0.  ]), 'bias': array([0.48])}},\n",
       " 'output': {'node_1': {'weights': array([0.85, 0.7 , 0.1 ]),\n",
       "   'bias': array([0.51])}}}"
      ]
     },
     "execution_count": 5,
     "metadata": {},
     "output_type": "execute_result"
    }
   ],
   "source": [
    "small_network"
   ]
  },
  {
   "cell_type": "code",
   "execution_count": 6,
   "id": "824f8d4a-8097-44e1-a2eb-2b3f1fb4159f",
   "metadata": {},
   "outputs": [],
   "source": [
    "def compute_weighted_sum(inputs, weights, bias):\n",
    "    return np.sum(inputs * weights) + bias"
   ]
  },
  {
   "cell_type": "code",
   "execution_count": 7,
   "id": "350df815-2726-41c5-a60c-c7ae0fb96774",
   "metadata": {},
   "outputs": [
    {
     "name": "stdout",
     "output_type": "stream",
     "text": [
      "The inputs to the network are [0.15 0.74 0.26 0.53 0.01]\n"
     ]
    }
   ],
   "source": [
    "from random import seed\n",
    "import numpy as np\n",
    "\n",
    "np.random.seed(12)\n",
    "inputs = np.around(np.random.uniform(size=5), decimals=2)\n",
    "\n",
    "print('The inputs to the network are {}'.format(inputs))"
   ]
  },
  {
   "cell_type": "code",
   "execution_count": 8,
   "id": "47200b98-420b-4645-bf0c-f53d1168864e",
   "metadata": {},
   "outputs": [
    {
     "data": {
      "text/plain": [
       "0.41800000000000004"
      ]
     },
     "execution_count": 8,
     "metadata": {},
     "output_type": "execute_result"
    }
   ],
   "source": [
    "compute_weighted_sum (inputs[0], 0.92, 0.28)"
   ]
  },
  {
   "cell_type": "code",
   "execution_count": 9,
   "id": "2d84f435-41e4-461b-b289-4a3aa4209a97",
   "metadata": {},
   "outputs": [],
   "source": [
    "def node_activation(weighted_sum):\n",
    "    return 1.0 / (1.0 + np.exp(-1 * weighted_sum))"
   ]
  },
  {
   "cell_type": "code",
   "execution_count": 10,
   "id": "839ba209-3d79-4b26-a4a3-b3d0571ad046",
   "metadata": {},
   "outputs": [
    {
     "data": {
      "text/plain": [
       "0.6030045685192893"
      ]
     },
     "execution_count": 10,
     "metadata": {},
     "output_type": "execute_result"
    }
   ],
   "source": [
    "node_activation(0.418000000000000)"
   ]
  },
  {
   "cell_type": "code",
   "execution_count": 11,
   "id": "5422ebc7-f07c-4865-950e-49b5a2d8ef44",
   "metadata": {},
   "outputs": [],
   "source": [
    "def forward_propagate(network, inputs):\n",
    "    \n",
    "    layer_inputs = list(inputs) \n",
    "    for layer in network:\n",
    "        \n",
    "        layer_data = network[layer]\n",
    "        \n",
    "        layer_outputs = [] \n",
    "        for layer_node in layer_data:\n",
    "        \n",
    "            node_data = layer_data[layer_node]\n",
    "            node_output = node_activation(compute_weighted_sum(layer_inputs, node_data['weights'], node_data['bias']))\n",
    "            layer_outputs.append(np.around(node_output[0], decimals=4))\n",
    "            \n",
    "        if layer != 'output':\n",
    "            print('The outputs of the nodes in hidden layer number {} is {}'.format(layer.split('_')[1], layer_outputs))\n",
    "    \n",
    "        layer_inputs = layer_outputs \n",
    "\n",
    "    network_predictions = layer_outputs\n",
    "    return network_predictions"
   ]
  },
  {
   "cell_type": "code",
   "execution_count": 12,
   "id": "f8e80a21-3868-4fb8-8218-a3d7db741db9",
   "metadata": {},
   "outputs": [
    {
     "name": "stdout",
     "output_type": "stream",
     "text": [
      "The outputs of the nodes in hidden layer number 1 is [0.8292, 0.7431, 0.8257]\n",
      "The outputs of the nodes in hidden layer number 2 is [0.8365, 0.9037]\n",
      "The outputs of the nodes in hidden layer number 3 is [0.6874, 0.9179, 0.6713]\n"
     ]
    },
    {
     "data": {
      "text/plain": [
       "[0.8586]"
      ]
     },
     "execution_count": 12,
     "metadata": {},
     "output_type": "execute_result"
    }
   ],
   "source": [
    "forward_propagate(small_network, inputs)"
   ]
  },
  {
   "cell_type": "code",
   "execution_count": null,
   "id": "6a357119-6e06-47d8-b036-d1c66a7f417e",
   "metadata": {},
   "outputs": [],
   "source": []
  }
 ],
 "metadata": {
  "kernelspec": {
   "display_name": "Python 3 (ipykernel)",
   "language": "python",
   "name": "python3"
  },
  "language_info": {
   "codemirror_mode": {
    "name": "ipython",
    "version": 3
   },
   "file_extension": ".py",
   "mimetype": "text/x-python",
   "name": "python",
   "nbconvert_exporter": "python",
   "pygments_lexer": "ipython3",
   "version": "3.9.12"
  }
 },
 "nbformat": 4,
 "nbformat_minor": 5
}
